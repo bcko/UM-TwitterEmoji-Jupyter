{
 "cells": [
  {
   "cell_type": "markdown",
   "metadata": {},
   "source": [
    "## We will first import libraries"
   ]
  },
  {
   "cell_type": "code",
   "execution_count": 2,
   "metadata": {},
   "outputs": [],
   "source": [
    "import os\n",
    "import re"
   ]
  },
  {
   "cell_type": "markdown",
   "metadata": {},
   "source": [
    "## Tweet Class"
   ]
  },
  {
   "cell_type": "code",
   "execution_count": 63,
   "metadata": {},
   "outputs": [],
   "source": [
    "class Tweet:\n",
    "    def __init__(self, user, tweet, country, charLength):\n",
    "        self.user = user\n",
    "        self.tweet = tweet\n",
    "        self.country = country\n",
    "        self.charLength = charLength\n",
    "        self.emojiUnicode = -1\n",
    "        self.emojiPersonalPositive = -1\n",
    "        self.emojiPersonalNegative = -1\n",
    "        self.emojiPersonalNeutral = -1\n",
    "        self.emojiNonpersonal = -1\n",
    "        self.emojiActivity = -1\n",
    "        self.emojiAnimalsAndNature = -1\n",
    "        self.emojiFlags = -1\n",
    "        self.emojiFoodAndDrink = -1\n",
    "        self.emojiObjects = -1\n",
    "        self.emojiSmileyAndPeople = -1\n",
    "        self.emojiSymbols = -1\n",
    "        self.emojiTravelAndPlaces = -1\n",
    "        self.emoticonPositive = -1\n",
    "        self.emoticonNeutral = -1\n",
    "        self.emoticonNegative = -1\n",
    "        self.emoticonSurprise = -1\n",
    "    \n",
    "    def countUnicodeEmoji(self, emojiList):\n",
    "        self.emojiActivity = 0\n",
    "        self.emojiAnimalsAndNature = 0\n",
    "        self.emojiFlags = 0\n",
    "        self.emojiFoodAndDrink = 0\n",
    "        self.emojiObjects = 0\n",
    "        self.emojiSmileyAndPeople = 0\n",
    "        self.emojiSymbols = 0\n",
    "        self.emojiTravelAndPlaces = 0\n",
    "        self.emojiPersonalPositive = 0\n",
    "        self.emojiPersonalNegative = 0\n",
    "        self.emojiPersonalNeutral = 0\n",
    "        for emoji in emojiList:\n",
    "            if emoji.unicodeType == \"Activity.txt\":\n",
    "                self.emojiActivity += self.tweet.count(emoji.emoji)\n",
    "            elif emoji.unicodeType == \"Animals_and_Nature.txt\":\n",
    "                self.emojiAnimalsAndNature += self.tweet.count(emoji.emoji)\n",
    "            elif emoji.unicodeType == \"Flags.md\":\n",
    "                self.emojiFlags += self.tweet.count(emoji.emoji)\n",
    "            elif emoji.unicodeType == \"Food_and_Drink.md\":\n",
    "                self.emojiFoodAndDrink += self.tweet.count(emoji.emoji)\n",
    "            elif emoji.unicodeType == \"Objects.md\":\n",
    "                self.emojiObjects += self.tweet.count(emoji.emoji)\n",
    "            elif emoji.unicodeType == \"Smileys_and_People.md\":\n",
    "                self.emojiSmileyAndPeople += self.tweet.count(emoji.emoji)\n",
    "            elif emoji.unicodeType == \"Symbols.md\":\n",
    "                self.emojiSymbols += self.tweet.count(emoji.emoji)\n",
    "            elif emoji.unicodeType == \"Travel_and_Places.md\":\n",
    "                self.emojiTravelAndPlaces += self.tweet.count(emoji.emoji)\n",
    "            elif emoji.unicodeType == \"Unicode_9.md\":\n",
    "                pass\n",
    "            elif emoji.unicodeType == \"people_positive.txt\":\n",
    "                self.emojiPersonalPositive += self.tweet.count(emoji.emoji)\n",
    "            elif emoji.unicodeType == \"people_neutral.txt\":\n",
    "                self.emojiPersonalNeutral += self.tweet.count(emoji.emoji)\n",
    "            elif emoji.unicodeType == \"people_negative.txt\":\n",
    "                self.emojiPersonalNegative += self.tweet.count(emoji.emoji)\n",
    "            else:\n",
    "                print(\"unicodeType:\" + emoji.unicodeType)\n",
    "                exit(1)\n",
    "\n",
    "    def countCharacterEmoji(self, emoticonList):\n",
    "        self.emoticonPositive = 0\n",
    "        self.emoticonNeutral = 0\n",
    "        self.emoticonNegative = 0\n",
    "        self.emoticonSurprise = 0\n",
    "        for emoticon in emoticonList:\n",
    "            if emoticon.filename == \"Negative.txt\":\n",
    "                self.emoticonNegative += self.tweet.count(emoticon.emoji)\n",
    "            elif emoticon.filename == \"Neutral.txt\":\n",
    "                self.emoticonNeutral += self.tweet.count(emoticon.emoji)\n",
    "            elif emoticon.filename == \"Positive.txt\":\n",
    "                self.emoticonPositive += self.tweet.count(emoticon.emoji)\n",
    "            elif emoticon.filename == \"Surprise.txt\":\n",
    "                self.emoticonSurprise += self.tweet.count(emoticon.emoji)\n",
    "            else :\n",
    "                print(\"filename:\" + emoticon.filename)\n",
    "                exit(1)\n",
    "\n",
    "    def write(self):\n",
    "        print(self.user+ '\\t' + self.country + '\\t' + str(self.charLength) + '\\t' +  str(self.emojiPersonalPositive) + '\\t' + str(self.emojiPersonalNeutral) + '\\t' + str(self.emojiPersonalNegative) + '\\t' + str(self.emojiActivity) + '\\t' + str(self.emojiAnimalsAndNature) + '\\t' + str(self.emojiFlags) + '\\t' + str(self.emojiFoodAndDrink) + '\\t' + str(self.emojiObjects) + '\\t' + str(self.emojiSmileyAndPeople) + '\\t' + str(self.emojiSymbols) + '\\t' + str(self.emojiTravelAndPlaces) + '\\t' + str(self.emoticonPositive) + '\\t' + str(self.emoticonNeutral) + '\\t' + str(self.emoticonNegative) +'\\t' + str(self.emoticonSurprise))\n",
    "\n",
    "    # percent of message that have emoticon per user.\n",
    "    def stats(self, unicodeEmojiList):\n",
    "        # user id, number of tweets, minimum number of tweets, \n",
    "        print(self.user+'\\t' )\n",
    "        print(\"number of tweets : \" + str(len(self.tweets)))\n",
    "        print(\"minimum number of tweets : \" + str(len(min(self.tweets, key=len))))\n",
    "        print(\"maximum number of tweets : \" + str(len(max(self.tweets, key=len))))\n",
    "\n",
    "    def unicodeStats(self, unicodeEmojiList):\n",
    "        emojiCount = 0\n",
    "        for unicodeEmoji in unicodeEmojiList:\n",
    "            emojiCount += self.tweets.count(unicodeEmoji.emoji)\n",
    "        print(emojiCount)\n"
   ]
  },
  {
   "cell_type": "markdown",
   "metadata": {},
   "source": [
    "## Emoji Class"
   ]
  },
  {
   "cell_type": "code",
   "execution_count": 60,
   "metadata": {},
   "outputs": [],
   "source": [
    "class CharacterEmoji:\n",
    "\tdef __init__(self, emoji, filename):\n",
    "\t\tself.emoji = emoji\n",
    "\t\tself.filename = filename\n",
    "        \n",
    "class UnicodeEmoji:\n",
    "\tdef __init__(self, emoji, descr, unicodeType):\n",
    "\t\tself.emoji = emoji\n",
    "\t\tself.descr = descr\n",
    "\t\tself.unicodeType = unicodeType\n",
    "\n",
    "\tdef write(self):\n",
    "\t\tprint(self.emoji + '\\t' + self.unicodeType + '\\t' + self.descr) "
   ]
  },
  {
   "cell_type": "markdown",
   "metadata": {},
   "source": [
    "## set directories"
   ]
  },
  {
   "cell_type": "code",
   "execution_count": 5,
   "metadata": {},
   "outputs": [],
   "source": [
    "topDirectory = os.getcwd()\n",
    "tweetDirectory = os.path.join(topDirectory , \"Tweets\")\n",
    "emojiDirectory = os.path.join(topDirectory , \"Emoji\")\n",
    "analysisDirectory =os.path.join(topDirectory , \"Analysis\")\n"
   ]
  },
  {
   "cell_type": "markdown",
   "metadata": {},
   "source": [
    "## Function to read Emoji"
   ]
  },
  {
   "cell_type": "code",
   "execution_count": 61,
   "metadata": {},
   "outputs": [],
   "source": [
    "def readUnicodeEmoji(directory):\n",
    "    unicodeEmojiList = []\n",
    "    for file in os.listdir(directory):\n",
    "        if file ==\".ipynb_checkpoints\":\n",
    "            continue\n",
    "        infile = open(os.path.join(directory , file) , encoding=\"utf-8\")\n",
    "        for line in infile:\n",
    "            line = line.rstrip(\"\\n\")\n",
    "            line = line.lstrip(\" \")\n",
    "            lineList = line.split(' ', 1)\n",
    "            unicodeEmojiList.append(UnicodeEmoji(lineList[0], lineList[1], file))\n",
    "    return unicodeEmojiList\n",
    "\n",
    "def readCharacterEmoji(directory):\n",
    "    characterEmojiList = []\n",
    "    for file in os.listdir(directory):\n",
    "        if file ==\".ipynb_checkpoints\":\n",
    "            continue\n",
    "        infile = open(os.path.join(directory , file),encoding=\"utf-8\")\n",
    "        for line in infile:\n",
    "            line = line.rstrip(\"\\n\")\n",
    "            characterEmojiList.append(CharacterEmoji(line, file))\n",
    "    return characterEmojiList"
   ]
  },
  {
   "cell_type": "markdown",
   "metadata": {},
   "source": [
    "## Emoji List"
   ]
  },
  {
   "cell_type": "code",
   "execution_count": 42,
   "metadata": {},
   "outputs": [],
   "source": [
    "characterEmojiList = readCharacterEmoji(os.path.join(emojiDirectory,\"CharacterBased\"))\n",
    "unicodeEmojiList = readUnicodeEmoji(os.path.join(emojiDirectory, \"UnicodeBased\"))"
   ]
  },
  {
   "cell_type": "code",
   "execution_count": null,
   "metadata": {},
   "outputs": [],
   "source": []
  },
  {
   "cell_type": "markdown",
   "metadata": {},
   "source": [
    "## Function to read Tweets"
   ]
  },
  {
   "cell_type": "code",
   "execution_count": 46,
   "metadata": {},
   "outputs": [],
   "source": [
    "def readTweets(directory, country):\n",
    "    tweet_list = []\n",
    "    for file in os.listdir(directory):\n",
    "        infile = open(os.path.join(directory , file), encoding=\"utf-8\")\n",
    "        corpus = infile.read()\n",
    "        infile.close()\n",
    "        pattern = r\"<Text_Begin> (.*) <Text_End>\"\n",
    "        result = re.findall(pattern, corpus)\n",
    "        for tweet in result:\n",
    "            charLength = len(tweet)\n",
    "            tweet_list.append(Tweet(file, tweet, country, charLength))\n",
    "    return tweet_list"
   ]
  },
  {
   "cell_type": "markdown",
   "metadata": {},
   "source": [
    "## Create a list of tweets"
   ]
  },
  {
   "cell_type": "code",
   "execution_count": 47,
   "metadata": {},
   "outputs": [],
   "source": [
    "\n",
    "koreanTweetsList = readTweets(os.path.join(tweetDirectory , \"Korea\"), \"Korea\")\n",
    "japanTweetsList = readTweets(os.path.join(tweetDirectory, \"Japan\"), \"Japan\")\n",
    "usTweetsList = readTweets(os.path.join(tweetDirectory, \"US\"), \"US\")\n",
    "canadaTweetsList = readTweets(os.path.join(tweetDirectory, \"Canada\"), \"Canada\")\n",
    "malaysiaTweetsList = readTweets(os.path.join(tweetDirectory, \"Malaysia\"), \"Malaysia\")\n",
    "singaporeTweetsList = readTweets(os.path.join(tweetDirectory,\"Singapore\"), \"Singapore\")"
   ]
  },
  {
   "cell_type": "code",
   "execution_count": 54,
   "metadata": {},
   "outputs": [
    {
     "name": "stdout",
     "output_type": "stream",
     "text": [
      "user\tcountry\tcharLength\temojiPersonalPositive\temojiPersonalNeutral\temojiPersonalNegative\temojiActivity\temojiAnimalsAndNature\temojiFlags\temojiFoodAndDrink\temojiObjects\temojiSmileyAndPeople\temojiSymbols\temojiTravelAndPlaces\temoticonPositive\temoticonNeutral\temoticonNegative\temoticonSurprise\n"
     ]
    }
   ],
   "source": [
    "tsvHeader = \"user\" + '\\t' + \"country\" + '\\t' + \"charLength\" + '\\t' +  \"emojiPersonalPositive\" + '\\t' + \"emojiPersonalNeutral\" + '\\t' + \"emojiPersonalNegative\" + '\\t' + \"emojiActivity\" + '\\t' + \"emojiAnimalsAndNature\" + '\\t' + \"emojiFlags\" + '\\t' + \"emojiFoodAndDrink\" + '\\t' + \"emojiObjects\" + '\\t' + \"emojiSmileyAndPeople\" + '\\t' + \"emojiSymbols\" + '\\t' + \"emojiTravelAndPlaces\" + '\\t' + \"emoticonPositive\" + '\\t' + \"emoticonNeutral\" + '\\t' + \"emoticonNegative\" + '\\t' + \"emoticonSurprise\"\n",
    "print(tsvHeader)"
   ]
  },
  {
   "cell_type": "code",
   "execution_count": 62,
   "metadata": {},
   "outputs": [
    {
     "ename": "AttributeError",
     "evalue": "'Tweet' object has no attribute 'countUnicodeEmoji'",
     "output_type": "error",
     "traceback": [
      "\u001b[1;31m---------------------------------------------------------------------------\u001b[0m",
      "\u001b[1;31mAttributeError\u001b[0m                            Traceback (most recent call last)",
      "\u001b[1;32m<ipython-input-62-5d0a09b2195f>\u001b[0m in \u001b[0;36m<module>\u001b[1;34m()\u001b[0m\n\u001b[0;32m      1\u001b[0m \u001b[0mkoreaFile\u001b[0m \u001b[1;33m=\u001b[0m \u001b[0mopen\u001b[0m\u001b[1;33m(\u001b[0m\u001b[0mos\u001b[0m\u001b[1;33m.\u001b[0m\u001b[0mpath\u001b[0m\u001b[1;33m.\u001b[0m\u001b[0mjoin\u001b[0m\u001b[1;33m(\u001b[0m\u001b[0manalysisDirectory\u001b[0m\u001b[1;33m,\u001b[0m \u001b[1;34m\"Korea.tsv\"\u001b[0m \u001b[1;33m)\u001b[0m\u001b[1;33m,\u001b[0m \u001b[1;34m\"w\"\u001b[0m\u001b[1;33m,\u001b[0m \u001b[0mencoding\u001b[0m\u001b[1;33m=\u001b[0m\u001b[1;34m\"utf-8\"\u001b[0m\u001b[1;33m)\u001b[0m\u001b[1;33m\u001b[0m\u001b[0m\n\u001b[0;32m      2\u001b[0m \u001b[1;32mfor\u001b[0m \u001b[0mkoreanTweet\u001b[0m \u001b[1;32min\u001b[0m \u001b[0mkoreanTweetsList\u001b[0m\u001b[1;33m:\u001b[0m\u001b[1;33m\u001b[0m\u001b[0m\n\u001b[1;32m----> 3\u001b[1;33m     \u001b[0mkoreanTweet\u001b[0m\u001b[1;33m.\u001b[0m\u001b[0mcountUnicodeEmoji\u001b[0m\u001b[1;33m(\u001b[0m\u001b[0municodeEmojiList\u001b[0m\u001b[1;33m)\u001b[0m\u001b[1;33m\u001b[0m\u001b[0m\n\u001b[0m\u001b[0;32m      4\u001b[0m     \u001b[0mkoreanTweet\u001b[0m\u001b[1;33m.\u001b[0m\u001b[0mcountCharacterEmoji\u001b[0m\u001b[1;33m(\u001b[0m\u001b[0mcharacterEmojiList\u001b[0m\u001b[1;33m)\u001b[0m\u001b[1;33m\u001b[0m\u001b[0m\n\u001b[0;32m      5\u001b[0m     \u001b[0mkoreaFile\u001b[0m\u001b[1;33m.\u001b[0m\u001b[0mwrite\u001b[0m\u001b[1;33m(\u001b[0m\u001b[0mkoreanTweet\u001b[0m\u001b[1;33m.\u001b[0m\u001b[0mwrite\u001b[0m\u001b[1;33m(\u001b[0m\u001b[1;33m)\u001b[0m\u001b[1;33m)\u001b[0m\u001b[1;33m\u001b[0m\u001b[0m\n",
      "\u001b[1;31mAttributeError\u001b[0m: 'Tweet' object has no attribute 'countUnicodeEmoji'"
     ]
    }
   ],
   "source": [
    "koreaFile = open(os.path.join(analysisDirectory, \"Korea.tsv\" ), \"w\", encoding=\"utf-8\")\n",
    "for koreanTweet in koreanTweetsList:\n",
    "    koreanTweet.countUnicodeEmoji(unicodeEmojiList)\n",
    "    koreanTweet.countCharacterEmoji(characterEmojiList)\n",
    "    koreaFile.write(koreanTweet.write())"
   ]
  }
 ],
 "metadata": {
  "kernelspec": {
   "display_name": "Python 3",
   "language": "python",
   "name": "python3"
  },
  "language_info": {
   "codemirror_mode": {
    "name": "ipython",
    "version": 3
   },
   "file_extension": ".py",
   "mimetype": "text/x-python",
   "name": "python",
   "nbconvert_exporter": "python",
   "pygments_lexer": "ipython3",
   "version": "3.6.3"
  }
 },
 "nbformat": 4,
 "nbformat_minor": 2
}
