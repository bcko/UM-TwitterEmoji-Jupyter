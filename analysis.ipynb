{
 "cells": [
  {
   "cell_type": "markdown",
   "metadata": {},
   "source": [
    "## We will first import libraries"
   ]
  },
  {
   "cell_type": "code",
   "execution_count": 1,
   "metadata": {},
   "outputs": [],
   "source": [
    "import os\n",
    "import re"
   ]
  },
  {
   "cell_type": "markdown",
   "metadata": {},
   "source": [
    "## Tweet Class"
   ]
  },
  {
   "cell_type": "code",
   "execution_count": 32,
   "metadata": {},
   "outputs": [],
   "source": [
    "class Tweet:\n",
    "    def __init__(self, user, tweet, country, charLength):\n",
    "        self.user = user\n",
    "        self.tweet = tweet\n",
    "        self.country = country\n",
    "        self.charLength = charLength\n",
    "        self.emojiUnicode = -1\n",
    "        self.emojiPersonalPositive = -1\n",
    "        self.emojiPersonalNegative = -1\n",
    "        self.emojiPersonalNeutral = -1\n",
    "        self.emojiNonpersonal = -1\n",
    "        self.emojiActivity = -1\n",
    "        self.emojiAnimalsAndNature = -1\n",
    "        self.emojiFlags = -1\n",
    "        self.emojiFoodAndDrink = -1\n",
    "        self.emojiObjects = -1\n",
    "        self.emojiSmileyAndPeople = -1\n",
    "        self.emojiSymbols = -1\n",
    "        self.emojiTravelAndPlaces = -1\n",
    "        self.emoticonPositive = -1\n",
    "        self.emoticonNeutral = -1\n",
    "        self.emoticonNegative = -1\n",
    "    \n",
    "    def countEmoji(self, emojiList):\n",
    "        self.emojiActivity = 0\n",
    "        self.emojiAnimalsAndNature = 0\n",
    "        self.emojiFlags = 0\n",
    "        self.emojiFoodAndDrink = 0\n",
    "        self.emojiObjects = 0\n",
    "        self.emojiSmileyAndPeople = 0\n",
    "        self.emojiSymbols = 0\n",
    "        self.emojiTravelAndPlaces = 0\n",
    "        self.emojiPersonalPositive = 0\n",
    "        self.emojiPersonalNegative = 0\n",
    "        self.emojiPersonalNeutral = 0\n",
    "        for emoji in emojiList:\n",
    "            if emoji.unicodeType == \"Activity.txt\":\n",
    "                self.emojiActivity += self.tweet.count(emoji.emoji)\n",
    "            elif emoji.unicodeType == \"Animals_and_Nature.txt\":\n",
    "                self.emojiAnimalsAndNature += self.tweet.count(emoji.emoji)\n",
    "            elif emoji.unicodeType == \"Flags.md\":\n",
    "                self.emojiFlags += self.tweet.count(emoji.emoji)\n",
    "            elif emoji.unicodeType == \"Food_and_Drink.md\":\n",
    "                self.emojiFoodAndDrink += self.tweet.count(emoji.emoji)\n",
    "            elif emoji.unicodeType == \"Objects.md\":\n",
    "                self.emojiObjects += self.tweet.count(emoji.emoji)\n",
    "            elif emoji.unicodeType == \"Smileys_and_People.md\":\n",
    "                self.emojiSmileyAndPeople += self.tweet.count(emoji.emoji)\n",
    "            elif emoji.unicodeType == \"Symbols.md\":\n",
    "                self.emojiSymbols += self.tweet.count(emoji.emoji)\n",
    "            elif emoji.unicodeType == \"Travel_and_Places.md\":\n",
    "                self.emojiTravelAndPlaces += self.tweet.count(emoji.emoji)\n",
    "            elif emoji.unicodeType == \"Unicode_9.md\":\n",
    "                pass\n",
    "            elif emoji.unicodeType == \"people_positive.txt\":\n",
    "                self.emojiPersonalPositive += self.tweet.count(emoji.emoji)\n",
    "            elif emoji.unicodeType == \"people_neutral.txt\":\n",
    "                self.emojiPersonalNeutral += self.tweet.count(emoji.emoji)\n",
    "            elif emoji.unicodeType == \"people_negative.txt\":\n",
    "                self.emojiPersonalNegative += self.tweet.count(emoji.emoji)\n",
    "            else:\n",
    "                print(\"unicodeType:\" + emoji.unicodeType)\n",
    "                exit(1)\n",
    "\n",
    "    def countEmoticon(self, emoticonList):\n",
    "        self.emoticonPositive = 0\n",
    "        self.emoticonNeutral = 0\n",
    "        self.emoticonNegative = 0\n",
    "        self.emoticonSurprise = 0\n",
    "        for emoticon in emoticonList:\n",
    "            if emoticon.filename == \"Negative.txt\":\n",
    "                self.emoticonNegative += self.tweet.count(emoticon.emoji)\n",
    "            elif emoticon.filename == \"Neutral.txt\":\n",
    "                self.emoticonNeutral += self.tweet.count(emoticon.emoji)\n",
    "            elif emoticon.filename == \"Positive.txt\":\n",
    "                self.emoticonPositive += self.tweet.count(emoticon.emoji)\n",
    "            elif emoticon.filename == \"Surprise.txt\":\n",
    "                self.emoticonSurprise += self.tweet.count(emoticon.emoji)\n",
    "            else :\n",
    "                print(\"filename:\" + emoticon.filename)\n",
    "                exit(1)\n",
    "\n",
    "    def write(self):\n",
    "        print(self.user+ '\\t' + self.country + '\\t' + str(self.charLength) + '\\t' +  str(self.emojiPersonalPositive) + '\\t' + str(self.emojiPersonalNeutral) + '\\t' + str(self.emojiPersonalNegative) + '\\t' + str(self.emojiActivity) + '\\t' + str(self.emojiAnimalsAndNature) + '\\t' + str(self.emojiFlags) + '\\t' + str(self.emojiFoodAndDrink) + '\\t' + str(self.emojiObjects) + '\\t' + str(self.emojiSmileyAndPeople) + '\\t' + str(self.emojiSymbols) + '\\t' + str(self.emojiTravelAndPlaces) + '\\t' + str(self.emoticonPositive) + '\\t' + str(self.emoticonNeutral) + '\\t' + str(self.emoticonNegative) )\n",
    "\n",
    "    # percent of message that have emoticon per user.\n",
    "    def stats(self, unicodeEmojiList):\n",
    "        # user id, number of tweets, minimum number of tweets, \n",
    "        print(self.user+'\\t' )\n",
    "        print(\"number of tweets : \" + str(len(self.tweets)))\n",
    "        print(\"minimum number of tweets : \" + str(len(min(self.tweets, key=len))))\n",
    "        print(\"maximum number of tweets : \" + str(len(max(self.tweets, key=len))))\n",
    "\n",
    "    def unicodeStats(self, unicodeEmojiList):\n",
    "        emojiCount = 0\n",
    "        for unicodeEmoji in unicodeEmojiList:\n",
    "            emojiCount += self.tweets.count(unicodeEmoji.emoji)\n",
    "        print(emojiCount)\n"
   ]
  },
  {
   "cell_type": "markdown",
   "metadata": {},
   "source": [
    "## Emoji Class"
   ]
  },
  {
   "cell_type": "code",
   "execution_count": 33,
   "metadata": {},
   "outputs": [],
   "source": [
    "class CharacterEmoji:\n",
    "\tdef __init__(self, emoji, filename):\n",
    "\t\tself.emoji = emoji\n",
    "\t\tself.filename = filename\n",
    "        \n",
    "class UnicodeEmoji:\n",
    "\tdef __init__(self, emoji, descr, unicodeType):\n",
    "\t\tself.emoji = emoji\n",
    "\t\tself.descr = descr\n",
    "\t\tself.unicodeType = unicodeType\n",
    "\n",
    "\tdef write(self):\n",
    "\t\tprint(self.emoji + '\\t' + self.unicodeType + '\\t' + self.descr) "
   ]
  },
  {
   "cell_type": "markdown",
   "metadata": {},
   "source": [
    "## set directories"
   ]
  },
  {
   "cell_type": "code",
   "execution_count": 24,
   "metadata": {},
   "outputs": [],
   "source": [
    "topDirectory = os.getcwd()\n",
    "tweetDirectory = os.path.join(topDirectory , \"Tweets\")\n",
    "emojiDirectory = os.path.join(topDirectory , \"Emoji\")\n",
    "analysisDirectory =os.path.join(topDirectory , \"Analysis\")\n"
   ]
  },
  {
   "cell_type": "markdown",
   "metadata": {},
   "source": [
    "## Function to read Emoji"
   ]
  },
  {
   "cell_type": "code",
   "execution_count": 34,
   "metadata": {},
   "outputs": [],
   "source": [
    "def readUnicodeEmoji(directory):\n",
    "\tunicodeEmojiList = []\n",
    "\tfor file in os.listdir(directory):\n",
    "\t\tinfile = open(os.path.join(directory , file))\n",
    "\t\tfor line in infile:\n",
    "\t\t\tline = line.rstrip(\"\\n\")\n",
    "\t\t\tline = line.lstrip(\" \")\n",
    "\t\t\tlineList = line.split(' ', 1)\n",
    "\t\t\tunicodeEmojiList.append(UnicodeEmoji(lineList[0], lineList[1], file))\n",
    "\treturn unicodeEmojiList\n",
    "\n",
    "def readCharacterEmoji(directory):\n",
    "\tcharacterEmojiList = []\n",
    "\tfor file in os.listdir(directory):\n",
    "\t\tinfile = open(os.path.join(directory , file))\n",
    "\t\tfor line in infile:\n",
    "\t\t\tline = line.rstrip(\"\\n\")\n",
    "\t\t\tcharacterEmojiList.append(CharacterEmoji(line, file))\n",
    "\treturn characterEmojiList"
   ]
  },
  {
   "cell_type": "markdown",
   "metadata": {},
   "source": [
    "## Emoji List"
   ]
  },
  {
   "cell_type": "code",
   "execution_count": 35,
   "metadata": {},
   "outputs": [
    {
     "ename": "PermissionError",
     "evalue": "[Errno 13] Permission denied: 'C:\\\\Users\\\\gobck\\\\Documents\\\\GitHub\\\\UM-TwitterEmoji-Jupyter\\\\Emoji\\\\UnicodeBased\\\\.ipynb_checkpoints'",
     "output_type": "error",
     "traceback": [
      "\u001b[1;31m---------------------------------------------------------------------------\u001b[0m",
      "\u001b[1;31mPermissionError\u001b[0m                           Traceback (most recent call last)",
      "\u001b[1;32m<ipython-input-35-8f8466fbe323>\u001b[0m in \u001b[0;36m<module>\u001b[1;34m()\u001b[0m\n\u001b[1;32m----> 1\u001b[1;33m \u001b[0municodeEmojiList\u001b[0m \u001b[1;33m=\u001b[0m \u001b[0mreadUnicodeEmoji\u001b[0m\u001b[1;33m(\u001b[0m\u001b[0mos\u001b[0m\u001b[1;33m.\u001b[0m\u001b[0mpath\u001b[0m\u001b[1;33m.\u001b[0m\u001b[0mjoin\u001b[0m\u001b[1;33m(\u001b[0m\u001b[0memojiDirectory\u001b[0m\u001b[1;33m,\u001b[0m \u001b[1;34m\"UnicodeBased\"\u001b[0m\u001b[1;33m)\u001b[0m\u001b[1;33m)\u001b[0m\u001b[1;33m\u001b[0m\u001b[0m\n\u001b[0m\u001b[0;32m      2\u001b[0m \u001b[0mcharacterEmojiList\u001b[0m \u001b[1;33m=\u001b[0m \u001b[0mreadCharacterEmoji\u001b[0m\u001b[1;33m(\u001b[0m\u001b[0mos\u001b[0m\u001b[1;33m.\u001b[0m\u001b[0mpath\u001b[0m\u001b[1;33m.\u001b[0m\u001b[0mjoin\u001b[0m\u001b[1;33m(\u001b[0m\u001b[0memojiDirectory\u001b[0m\u001b[1;33m,\u001b[0m\u001b[1;34m\"CharacterBased\"\u001b[0m\u001b[1;33m)\u001b[0m\u001b[1;33m)\u001b[0m\u001b[1;33m\u001b[0m\u001b[0m\n",
      "\u001b[1;32m<ipython-input-34-e35f92a04543>\u001b[0m in \u001b[0;36mreadUnicodeEmoji\u001b[1;34m(directory)\u001b[0m\n\u001b[0;32m      2\u001b[0m         \u001b[0municodeEmojiList\u001b[0m \u001b[1;33m=\u001b[0m \u001b[1;33m[\u001b[0m\u001b[1;33m]\u001b[0m\u001b[1;33m\u001b[0m\u001b[0m\n\u001b[0;32m      3\u001b[0m         \u001b[1;32mfor\u001b[0m \u001b[0mfile\u001b[0m \u001b[1;32min\u001b[0m \u001b[0mos\u001b[0m\u001b[1;33m.\u001b[0m\u001b[0mlistdir\u001b[0m\u001b[1;33m(\u001b[0m\u001b[0mdirectory\u001b[0m\u001b[1;33m)\u001b[0m\u001b[1;33m:\u001b[0m\u001b[1;33m\u001b[0m\u001b[0m\n\u001b[1;32m----> 4\u001b[1;33m                 \u001b[0minfile\u001b[0m \u001b[1;33m=\u001b[0m \u001b[0mopen\u001b[0m\u001b[1;33m(\u001b[0m\u001b[0mos\u001b[0m\u001b[1;33m.\u001b[0m\u001b[0mpath\u001b[0m\u001b[1;33m.\u001b[0m\u001b[0mjoin\u001b[0m\u001b[1;33m(\u001b[0m\u001b[0mdirectory\u001b[0m \u001b[1;33m,\u001b[0m \u001b[0mfile\u001b[0m\u001b[1;33m)\u001b[0m\u001b[1;33m)\u001b[0m\u001b[1;33m\u001b[0m\u001b[0m\n\u001b[0m\u001b[0;32m      5\u001b[0m                 \u001b[1;32mfor\u001b[0m \u001b[0mline\u001b[0m \u001b[1;32min\u001b[0m \u001b[0minfile\u001b[0m\u001b[1;33m:\u001b[0m\u001b[1;33m\u001b[0m\u001b[0m\n\u001b[0;32m      6\u001b[0m                         \u001b[0mline\u001b[0m \u001b[1;33m=\u001b[0m \u001b[0mline\u001b[0m\u001b[1;33m.\u001b[0m\u001b[0mrstrip\u001b[0m\u001b[1;33m(\u001b[0m\u001b[1;34m\"\\n\"\u001b[0m\u001b[1;33m)\u001b[0m\u001b[1;33m\u001b[0m\u001b[0m\n",
      "\u001b[1;31mPermissionError\u001b[0m: [Errno 13] Permission denied: 'C:\\\\Users\\\\gobck\\\\Documents\\\\GitHub\\\\UM-TwitterEmoji-Jupyter\\\\Emoji\\\\UnicodeBased\\\\.ipynb_checkpoints'"
     ]
    }
   ],
   "source": [
    "unicodeEmojiList = readUnicodeEmoji(os.path.join(emojiDirectory, \"UnicodeBased\"))\n",
    "characterEmojiList = readCharacterEmoji(os.path.join(emojiDirectory,\"CharacterBased\"))"
   ]
  },
  {
   "cell_type": "markdown",
   "metadata": {},
   "source": [
    "## Function to read Tweets"
   ]
  },
  {
   "cell_type": "code",
   "execution_count": 9,
   "metadata": {},
   "outputs": [],
   "source": [
    "def readTweets(directory, country):\n",
    "    tweet_list = []\n",
    "    for file in os.listdir(directory):\n",
    "        infile = open(directory + \"/\" + file)\n",
    "        corpus = infile.read()\n",
    "        infile.close()\n",
    "        pattern = r\"<Text_Begin> (.*) <Text_End>\"\n",
    "        result = re.findall(pattern, corpus)\n",
    "        for tweet in result:\n",
    "            charLength = len(tweet)\n",
    "            tweet_list.append(Tweet(file, tweet, country, charLength))\n",
    "    return tweet_list"
   ]
  },
  {
   "cell_type": "markdown",
   "metadata": {},
   "source": [
    "## Create a list of tweets"
   ]
  },
  {
   "cell_type": "code",
   "execution_count": 12,
   "metadata": {},
   "outputs": [
    {
     "ename": "UnicodeDecodeError",
     "evalue": "'charmap' codec can't decode byte 0x90 in position 31: character maps to <undefined>",
     "output_type": "error",
     "traceback": [
      "\u001b[1;31m---------------------------------------------------------------------------\u001b[0m",
      "\u001b[1;31mUnicodeDecodeError\u001b[0m                        Traceback (most recent call last)",
      "\u001b[1;32m<ipython-input-12-c3b1adb17eda>\u001b[0m in \u001b[0;36m<module>\u001b[1;34m()\u001b[0m\n\u001b[1;32m----> 1\u001b[1;33m \u001b[0mkoreanTweetsList\u001b[0m \u001b[1;33m=\u001b[0m \u001b[0mreadTweets\u001b[0m\u001b[1;33m(\u001b[0m\u001b[0mtweetDirectory\u001b[0m \u001b[1;33m+\u001b[0m \u001b[1;34m\"/Korea\"\u001b[0m\u001b[1;33m,\u001b[0m \u001b[1;34m\"Korea\"\u001b[0m\u001b[1;33m)\u001b[0m\u001b[1;33m\u001b[0m\u001b[0m\n\u001b[0m\u001b[0;32m      2\u001b[0m \u001b[0mjapanTweetsList\u001b[0m \u001b[1;33m=\u001b[0m \u001b[0mreadTweets\u001b[0m\u001b[1;33m(\u001b[0m\u001b[0mtweetDirectory\u001b[0m \u001b[1;33m+\u001b[0m \u001b[1;34m\"/Japan\"\u001b[0m\u001b[1;33m,\u001b[0m \u001b[1;34m\"Japan\"\u001b[0m\u001b[1;33m)\u001b[0m\u001b[1;33m\u001b[0m\u001b[0m\n\u001b[0;32m      3\u001b[0m \u001b[0musTweetsList\u001b[0m \u001b[1;33m=\u001b[0m \u001b[0mreadTweets\u001b[0m\u001b[1;33m(\u001b[0m\u001b[0mtweetDirectory\u001b[0m \u001b[1;33m+\u001b[0m \u001b[1;34m\"/US\"\u001b[0m\u001b[1;33m,\u001b[0m \u001b[1;34m\"US\"\u001b[0m\u001b[1;33m)\u001b[0m\u001b[1;33m\u001b[0m\u001b[0m\n\u001b[0;32m      4\u001b[0m \u001b[0mcanadaTweetsList\u001b[0m \u001b[1;33m=\u001b[0m \u001b[0mreadTweets\u001b[0m\u001b[1;33m(\u001b[0m\u001b[0mtweetDirectory\u001b[0m \u001b[1;33m+\u001b[0m \u001b[1;34m\"/Canada\"\u001b[0m\u001b[1;33m,\u001b[0m \u001b[1;34m\"Canada\"\u001b[0m\u001b[1;33m)\u001b[0m\u001b[1;33m\u001b[0m\u001b[0m\n\u001b[0;32m      5\u001b[0m \u001b[0mmalaysiaTweetsList\u001b[0m \u001b[1;33m=\u001b[0m \u001b[0mreadTweets\u001b[0m\u001b[1;33m(\u001b[0m\u001b[0mtweetDirectory\u001b[0m \u001b[1;33m+\u001b[0m\u001b[1;34m\"/Malaysia\"\u001b[0m\u001b[1;33m,\u001b[0m \u001b[1;34m\"Malaysia\"\u001b[0m\u001b[1;33m)\u001b[0m\u001b[1;33m\u001b[0m\u001b[0m\n",
      "\u001b[1;32m<ipython-input-9-8e9bc819c1d1>\u001b[0m in \u001b[0;36mreadTweets\u001b[1;34m(directory, country)\u001b[0m\n\u001b[0;32m      3\u001b[0m     \u001b[1;32mfor\u001b[0m \u001b[0mfile\u001b[0m \u001b[1;32min\u001b[0m \u001b[0mos\u001b[0m\u001b[1;33m.\u001b[0m\u001b[0mlistdir\u001b[0m\u001b[1;33m(\u001b[0m\u001b[0mdirectory\u001b[0m\u001b[1;33m)\u001b[0m\u001b[1;33m:\u001b[0m\u001b[1;33m\u001b[0m\u001b[0m\n\u001b[0;32m      4\u001b[0m         \u001b[0minfile\u001b[0m \u001b[1;33m=\u001b[0m \u001b[0mopen\u001b[0m\u001b[1;33m(\u001b[0m\u001b[0mdirectory\u001b[0m \u001b[1;33m+\u001b[0m \u001b[1;34m\"/\"\u001b[0m \u001b[1;33m+\u001b[0m \u001b[0mfile\u001b[0m\u001b[1;33m)\u001b[0m\u001b[1;33m\u001b[0m\u001b[0m\n\u001b[1;32m----> 5\u001b[1;33m         \u001b[0mcorpus\u001b[0m \u001b[1;33m=\u001b[0m \u001b[0minfile\u001b[0m\u001b[1;33m.\u001b[0m\u001b[0mread\u001b[0m\u001b[1;33m(\u001b[0m\u001b[1;33m)\u001b[0m\u001b[1;33m\u001b[0m\u001b[0m\n\u001b[0m\u001b[0;32m      6\u001b[0m         \u001b[0minfile\u001b[0m\u001b[1;33m.\u001b[0m\u001b[0mclose\u001b[0m\u001b[1;33m(\u001b[0m\u001b[1;33m)\u001b[0m\u001b[1;33m\u001b[0m\u001b[0m\n\u001b[0;32m      7\u001b[0m         \u001b[0mpattern\u001b[0m \u001b[1;33m=\u001b[0m \u001b[1;34mr\"<Text_Begin> (.*) <Text_End>\"\u001b[0m\u001b[1;33m\u001b[0m\u001b[0m\n",
      "\u001b[1;32m~\\Anaconda3\\lib\\encodings\\cp1252.py\u001b[0m in \u001b[0;36mdecode\u001b[1;34m(self, input, final)\u001b[0m\n\u001b[0;32m     21\u001b[0m \u001b[1;32mclass\u001b[0m \u001b[0mIncrementalDecoder\u001b[0m\u001b[1;33m(\u001b[0m\u001b[0mcodecs\u001b[0m\u001b[1;33m.\u001b[0m\u001b[0mIncrementalDecoder\u001b[0m\u001b[1;33m)\u001b[0m\u001b[1;33m:\u001b[0m\u001b[1;33m\u001b[0m\u001b[0m\n\u001b[0;32m     22\u001b[0m     \u001b[1;32mdef\u001b[0m \u001b[0mdecode\u001b[0m\u001b[1;33m(\u001b[0m\u001b[0mself\u001b[0m\u001b[1;33m,\u001b[0m \u001b[0minput\u001b[0m\u001b[1;33m,\u001b[0m \u001b[0mfinal\u001b[0m\u001b[1;33m=\u001b[0m\u001b[1;32mFalse\u001b[0m\u001b[1;33m)\u001b[0m\u001b[1;33m:\u001b[0m\u001b[1;33m\u001b[0m\u001b[0m\n\u001b[1;32m---> 23\u001b[1;33m         \u001b[1;32mreturn\u001b[0m \u001b[0mcodecs\u001b[0m\u001b[1;33m.\u001b[0m\u001b[0mcharmap_decode\u001b[0m\u001b[1;33m(\u001b[0m\u001b[0minput\u001b[0m\u001b[1;33m,\u001b[0m\u001b[0mself\u001b[0m\u001b[1;33m.\u001b[0m\u001b[0merrors\u001b[0m\u001b[1;33m,\u001b[0m\u001b[0mdecoding_table\u001b[0m\u001b[1;33m)\u001b[0m\u001b[1;33m[\u001b[0m\u001b[1;36m0\u001b[0m\u001b[1;33m]\u001b[0m\u001b[1;33m\u001b[0m\u001b[0m\n\u001b[0m\u001b[0;32m     24\u001b[0m \u001b[1;33m\u001b[0m\u001b[0m\n\u001b[0;32m     25\u001b[0m \u001b[1;32mclass\u001b[0m \u001b[0mStreamWriter\u001b[0m\u001b[1;33m(\u001b[0m\u001b[0mCodec\u001b[0m\u001b[1;33m,\u001b[0m\u001b[0mcodecs\u001b[0m\u001b[1;33m.\u001b[0m\u001b[0mStreamWriter\u001b[0m\u001b[1;33m)\u001b[0m\u001b[1;33m:\u001b[0m\u001b[1;33m\u001b[0m\u001b[0m\n",
      "\u001b[1;31mUnicodeDecodeError\u001b[0m: 'charmap' codec can't decode byte 0x90 in position 31: character maps to <undefined>"
     ]
    }
   ],
   "source": [
    "koreanTweetsList = readTweets(tweetDirectory + \"/Korea\", \"Korea\")\n",
    "japanTweetsList = readTweets(tweetDirectory + \"/Japan\", \"Japan\")\n",
    "usTweetsList = readTweets(tweetDirectory + \"/US\", \"US\")\n",
    "canadaTweetsList = readTweets(tweetDirectory + \"/Canada\", \"Canada\")\n",
    "malaysiaTweetsList = readTweets(tweetDirectory +\"/Malaysia\", \"Malaysia\")\n",
    "singaporeTweetsList = readTweets(tweetDirectory +\"/Singapore\", \"Singapore\")"
   ]
  }
 ],
 "metadata": {
  "kernelspec": {
   "display_name": "Python 3",
   "language": "python",
   "name": "python3"
  },
  "language_info": {
   "codemirror_mode": {
    "name": "ipython",
    "version": 3
   },
   "file_extension": ".py",
   "mimetype": "text/x-python",
   "name": "python",
   "nbconvert_exporter": "python",
   "pygments_lexer": "ipython3",
   "version": "3.6.3"
  }
 },
 "nbformat": 4,
 "nbformat_minor": 2
}
