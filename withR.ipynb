{
 "cells": [
  {
   "cell_type": "code",
   "execution_count": 2,
   "metadata": {},
   "outputs": [],
   "source": [
    "usData = read.csv(\"Analysis/us.csv\", header=T)\n"
   ]
  },
  {
   "cell_type": "code",
   "execution_count": 6,
   "metadata": {},
   "outputs": [
    {
     "name": "stdout",
     "output_type": "stream",
     "text": [
      "'data.frame':\t190829 obs. of  18 variables:\n",
      " $ user                 : Factor w/ 95 levels \"_skirah\",\"AlanFettig21\",..: 2 2 2 2 2 2 2 2 2 2 ...\n",
      " $ country              : int  3 3 3 3 3 3 3 3 3 3 ...\n",
      " $ charLength           : int  20 37 9 54 49 72 33 15 20 50 ...\n",
      " $ emojiPersonalPositive: int  0 0 0 0 0 0 0 0 0 0 ...\n",
      " $ emojiPersonalNeutral : int  0 0 0 0 0 0 0 0 0 0 ...\n",
      " $ emojiPersonalNegative: int  0 0 0 0 0 0 0 0 0 0 ...\n",
      " $ emojiActivity        : int  0 0 0 0 0 0 0 0 0 0 ...\n",
      " $ emojiAnimalsAndNature: int  0 0 0 0 0 0 0 0 0 0 ...\n",
      " $ emojiFlags           : int  0 0 0 0 0 0 0 0 0 0 ...\n",
      " $ emojiFoodAndDrink    : int  0 0 0 0 0 0 0 0 0 0 ...\n",
      " $ emojiObjects         : int  0 0 0 0 0 0 0 0 0 0 ...\n",
      " $ emojiSmileyAndPeople : int  0 0 0 1 0 0 0 0 0 0 ...\n",
      " $ emojiSymbols         : int  0 0 0 0 0 0 0 0 0 0 ...\n",
      " $ emojiTravelAndPlaces : int  0 0 0 0 0 0 0 0 0 0 ...\n",
      " $ emoticonPositive     : int  0 0 0 0 0 0 0 0 0 0 ...\n",
      " $ emoticonNeutral      : int  0 0 0 0 0 0 0 0 0 0 ...\n",
      " $ emoticonNegative     : int  0 1 0 0 0 0 0 0 0 1 ...\n",
      " $ emoticonSurprise     : int  0 0 0 0 0 0 0 0 0 0 ...\n"
     ]
    }
   ],
   "source": [
    "str(usData)"
   ]
  },
  {
   "cell_type": "code",
   "execution_count": 9,
   "metadata": {},
   "outputs": [],
   "source": [
    "usDataPrev = read.csv(\"Analysis/usD.txt\", header=T, sep=\"\\t\")"
   ]
  },
  {
   "cell_type": "code",
   "execution_count": 11,
   "metadata": {},
   "outputs": [
    {
     "name": "stdout",
     "output_type": "stream",
     "text": [
      "'data.frame':\t190829 obs. of  17 variables:\n",
      " $ user                 : Factor w/ 95 levels \"_skirah\",\"AlanFettig21\",..: 2 2 2 2 2 2 2 2 2 2 ...\n",
      " $ country              : Factor w/ 1 level \"US\": 1 1 1 1 1 1 1 1 1 1 ...\n",
      " $ charLength           : int  20 37 9 54 49 72 33 15 20 50 ...\n",
      " $ emojiPersonalPositive: int  0 0 0 0 0 0 0 0 0 0 ...\n",
      " $ emojiPersonalNeutral : int  0 0 0 0 0 0 0 0 0 0 ...\n",
      " $ emojiPersonalNegative: int  0 0 0 0 0 0 0 0 0 0 ...\n",
      " $ emojiActivity        : int  0 0 0 0 0 0 0 0 0 0 ...\n",
      " $ emojiAnimalsAndNature: int  0 0 0 0 0 0 0 0 0 0 ...\n",
      " $ emojiFlags           : int  0 0 0 0 0 0 0 0 0 0 ...\n",
      " $ emojiFoodAndDrink    : int  0 0 0 0 0 0 0 0 0 0 ...\n",
      " $ emojiObjects         : int  0 0 0 0 0 0 0 0 0 0 ...\n",
      " $ emojiSmileyAndPeople : int  0 0 0 1 0 0 0 0 0 0 ...\n",
      " $ emojiSymbols         : int  0 0 0 0 0 0 0 0 0 0 ...\n",
      " $ emojiTravelAndPlaces : int  0 0 0 0 0 0 0 0 0 0 ...\n",
      " $ emoticonPositive     : int  0 0 0 0 0 0 0 0 0 0 ...\n",
      " $ emoticonNeutral      : int  0 0 0 0 0 0 0 0 0 0 ...\n",
      " $ emoticonNegative     : int  0 1 0 0 0 0 0 0 0 1 ...\n"
     ]
    }
   ],
   "source": [
    "str(usDataPrev)"
   ]
  },
  {
   "cell_type": "code",
   "execution_count": 12,
   "metadata": {},
   "outputs": [],
   "source": [
    "koreaData = read.csv(\"Analysis/korea.csv\", header=T)"
   ]
  },
  {
   "cell_type": "code",
   "execution_count": 13,
   "metadata": {},
   "outputs": [
    {
     "name": "stdout",
     "output_type": "stream",
     "text": [
      "'data.frame':\t174527 obs. of  18 variables:\n",
      " $ user                 : Factor w/ 106 levels \"____JIYU\",\"__Jonnassibal\",..: 5 5 5 5 5 5 5 5 5 5 ...\n",
      " $ country              : int  1 1 1 1 1 1 1 1 1 1 ...\n",
      " $ charLength           : int  60 52 91 137 61 88 71 67 42 59 ...\n",
      " $ emojiPersonalPositive: int  0 0 0 1 0 0 0 0 0 0 ...\n",
      " $ emojiPersonalNeutral : int  0 0 0 0 0 0 0 0 0 0 ...\n",
      " $ emojiPersonalNegative: int  0 0 0 0 0 0 0 0 0 0 ...\n",
      " $ emojiActivity        : int  0 0 0 0 0 0 0 0 0 0 ...\n",
      " $ emojiAnimalsAndNature: int  0 0 0 1 0 0 0 0 0 0 ...\n",
      " $ emojiFlags           : int  0 0 0 0 0 0 0 0 0 0 ...\n",
      " $ emojiFoodAndDrink    : int  0 0 0 0 0 0 0 0 0 0 ...\n",
      " $ emojiObjects         : int  0 0 0 0 0 0 0 0 0 0 ...\n",
      " $ emojiSmileyAndPeople : int  0 0 0 1 0 0 0 0 0 0 ...\n",
      " $ emojiSymbols         : int  0 0 0 0 0 0 0 0 0 0 ...\n",
      " $ emojiTravelAndPlaces : int  0 0 0 0 0 0 0 0 0 0 ...\n",
      " $ emoticonPositive     : int  0 0 0 0 0 0 0 0 0 0 ...\n",
      " $ emoticonNeutral      : int  0 0 0 0 0 0 0 0 0 0 ...\n",
      " $ emoticonNegative     : int  1 1 2 1 1 2 2 2 1 1 ...\n",
      " $ emoticonSurprise     : int  0 0 0 0 0 0 0 0 0 0 ...\n"
     ]
    }
   ],
   "source": [
    "str(koreaData)"
   ]
  },
  {
   "cell_type": "code",
   "execution_count": 14,
   "metadata": {},
   "outputs": [],
   "source": [
    "koreaDataPrev = read.csv(\"Analysis/koreaD.txt\", header=T, sep=\"\\t\")"
   ]
  },
  {
   "cell_type": "code",
   "execution_count": 15,
   "metadata": {},
   "outputs": [
    {
     "name": "stdout",
     "output_type": "stream",
     "text": [
      "'data.frame':\t174527 obs. of  17 variables:\n",
      " $ user                 : Factor w/ 106 levels \"____JIYU\",\"__Jonnassibal\",..: 36 36 36 36 36 36 36 36 36 36 ...\n",
      " $ country              : Factor w/ 1 level \"Korea\": 1 1 1 1 1 1 1 1 1 1 ...\n",
      " $ charLength           : int  31 23 95 70 95 23 47 47 23 23 ...\n",
      " $ emojiPersonalPositive: int  0 0 0 0 0 0 0 0 0 0 ...\n",
      " $ emojiPersonalNeutral : int  0 0 0 0 0 0 0 0 0 0 ...\n",
      " $ emojiPersonalNegative: int  0 0 0 0 0 0 0 0 0 0 ...\n",
      " $ emojiActivity        : int  0 0 0 0 0 0 0 0 0 0 ...\n",
      " $ emojiAnimalsAndNature: int  0 0 0 0 0 0 0 0 0 0 ...\n",
      " $ emojiFlags           : int  0 0 0 0 0 0 0 0 0 0 ...\n",
      " $ emojiFoodAndDrink    : int  0 0 0 0 0 0 0 0 0 0 ...\n",
      " $ emojiObjects         : int  0 0 0 0 0 0 0 0 0 0 ...\n",
      " $ emojiSmileyAndPeople : int  0 0 0 0 0 0 0 0 0 0 ...\n",
      " $ emojiSymbols         : int  0 0 0 0 0 0 0 0 0 0 ...\n",
      " $ emojiTravelAndPlaces : int  0 0 0 0 0 0 0 0 0 0 ...\n",
      " $ emoticonPositive     : int  0 0 2 0 0 0 0 0 0 0 ...\n",
      " $ emoticonNeutral      : int  0 0 0 0 0 0 0 0 0 0 ...\n",
      " $ emoticonNegative     : int  1 1 0 1 1 1 2 2 1 1 ...\n"
     ]
    }
   ],
   "source": [
    "str(koreaDataPrev)"
   ]
  },
  {
   "cell_type": "code",
   "execution_count": 16,
   "metadata": {},
   "outputs": [],
   "source": [
    "fulldata = merge(koreaData, usData)"
   ]
  },
  {
   "cell_type": "code",
   "execution_count": 18,
   "metadata": {},
   "outputs": [
    {
     "name": "stdout",
     "output_type": "stream",
     "text": [
      "'data.frame':\t0 obs. of  18 variables:\n",
      " $ user                 : Factor w/ 106 levels \"____JIYU\",\"__Jonnassibal\",..: \n",
      " $ country              : int \n",
      " $ charLength           : int \n",
      " $ emojiPersonalPositive: int \n",
      " $ emojiPersonalNeutral : int \n",
      " $ emojiPersonalNegative: int \n",
      " $ emojiActivity        : int \n",
      " $ emojiAnimalsAndNature: int \n",
      " $ emojiFlags           : int \n",
      " $ emojiFoodAndDrink    : int \n",
      " $ emojiObjects         : int \n",
      " $ emojiSmileyAndPeople : int \n",
      " $ emojiSymbols         : int \n",
      " $ emojiTravelAndPlaces : int \n",
      " $ emoticonPositive     : int \n",
      " $ emoticonNeutral      : int \n",
      " $ emoticonNegative     : int \n",
      " $ emoticonSurprise     : int \n"
     ]
    }
   ],
   "source": [
    "str(fulldata)"
   ]
  }
 ],
 "metadata": {
  "kernelspec": {
   "display_name": "R",
   "language": "R",
   "name": "ir"
  },
  "language_info": {
   "codemirror_mode": "r",
   "file_extension": ".r",
   "mimetype": "text/x-r-source",
   "name": "R",
   "pygments_lexer": "r",
   "version": "3.4.2"
  }
 },
 "nbformat": 4,
 "nbformat_minor": 2
}
